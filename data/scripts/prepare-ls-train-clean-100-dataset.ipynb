{
 "cells": [
  {
   "cell_type": "markdown",
   "metadata": {},
   "source": [
    "# Prepare Train Dataset\n",
    "\n",
    "Load paths from `Librispeech` folder. From paths load actual labels. Zip labels with corresponding audio paths. Audio paths can be played using the `playsound` library."
   ]
  },
  {
   "cell_type": "code",
   "execution_count": 24,
   "metadata": {},
   "outputs": [],
   "source": [
    "from glob import glob"
   ]
  },
  {
   "cell_type": "code",
   "execution_count": 25,
   "metadata": {},
   "outputs": [
    {
     "data": {
      "text/plain": [
       "(['..\\\\LibriSpeech\\\\train-clean-100\\\\103\\\\1240\\\\103-1240-0000.flac',\n",
       "  '..\\\\LibriSpeech\\\\train-clean-100\\\\103\\\\1240\\\\103-1240-0001.flac',\n",
       "  '..\\\\LibriSpeech\\\\train-clean-100\\\\103\\\\1240\\\\103-1240-0002.flac',\n",
       "  '..\\\\LibriSpeech\\\\train-clean-100\\\\103\\\\1240\\\\103-1240-0003.flac',\n",
       "  '..\\\\LibriSpeech\\\\train-clean-100\\\\103\\\\1240\\\\103-1240-0004.flac',\n",
       "  '..\\\\LibriSpeech\\\\train-clean-100\\\\103\\\\1240\\\\103-1240-0005.flac',\n",
       "  '..\\\\LibriSpeech\\\\train-clean-100\\\\103\\\\1240\\\\103-1240-0006.flac',\n",
       "  '..\\\\LibriSpeech\\\\train-clean-100\\\\103\\\\1240\\\\103-1240-0007.flac',\n",
       "  '..\\\\LibriSpeech\\\\train-clean-100\\\\103\\\\1240\\\\103-1240-0008.flac',\n",
       "  '..\\\\LibriSpeech\\\\train-clean-100\\\\103\\\\1240\\\\103-1240-0009.flac'],\n",
       " ['..\\\\LibriSpeech\\\\train-clean-100\\\\103\\\\1240\\\\103-1240.trans.txt',\n",
       "  '..\\\\LibriSpeech\\\\train-clean-100\\\\103\\\\1241\\\\103-1241.trans.txt',\n",
       "  '..\\\\LibriSpeech\\\\train-clean-100\\\\1034\\\\121119\\\\1034-121119.trans.txt',\n",
       "  '..\\\\LibriSpeech\\\\train-clean-100\\\\1040\\\\133433\\\\1040-133433.trans.txt',\n",
       "  '..\\\\LibriSpeech\\\\train-clean-100\\\\1069\\\\133699\\\\1069-133699.trans.txt',\n",
       "  '..\\\\LibriSpeech\\\\train-clean-100\\\\1069\\\\133709\\\\1069-133709.trans.txt',\n",
       "  '..\\\\LibriSpeech\\\\train-clean-100\\\\1081\\\\125237\\\\1081-125237.trans.txt',\n",
       "  '..\\\\LibriSpeech\\\\train-clean-100\\\\1081\\\\128618\\\\1081-128618.trans.txt',\n",
       "  '..\\\\LibriSpeech\\\\train-clean-100\\\\1088\\\\129236\\\\1088-129236.trans.txt',\n",
       "  '..\\\\LibriSpeech\\\\train-clean-100\\\\1088\\\\134315\\\\1088-134315.trans.txt'])"
      ]
     },
     "execution_count": 25,
     "metadata": {},
     "output_type": "execute_result"
    }
   ],
   "source": [
    "# Just for one subdirectory\n",
    "path = '..\\\\LibriSpeech\\\\train-clean-100\\\\**\\\\'\n",
    "audio_paths = glob(path + '*.flac', recursive=True)\n",
    "label_paths = glob(path + '*.txt', recursive=True)\n",
    "\n",
    "audio_paths[:10], label_paths[:10]"
   ]
  },
  {
   "cell_type": "code",
   "execution_count": 26,
   "metadata": {},
   "outputs": [
    {
     "data": {
      "text/plain": [
       "28539"
      ]
     },
     "execution_count": 26,
     "metadata": {},
     "output_type": "execute_result"
    }
   ],
   "source": [
    "len(audio_paths)"
   ]
  },
  {
   "cell_type": "code",
   "execution_count": 27,
   "metadata": {},
   "outputs": [],
   "source": [
    "with open(\"..\\\\manifest\\\\ls-audios.txt\", 'w') as f:\n",
    "    [f.write(a + \"\\n\") for a in audio_paths]\n",
    "\n",
    "with open(\"..\\\\manifest\\\\ls-label-paths.txt\", 'w') as f:\n",
    "    [f.write(l + \"\\n\") for l in label_paths]"
   ]
  },
  {
   "cell_type": "code",
   "execution_count": 28,
   "metadata": {},
   "outputs": [
    {
     "data": {
      "text/plain": [
       "('CHAPTER ONE MISSUS RACHEL LYNDE IS SURPRISED MISSUS RACHEL LYNDE LIVED JUST WHERE THE AVONLEA MAIN ROAD DIPPED DOWN INTO A LITTLE HOLLOW FRINGED WITH ALDERS AND LADIES EARDROPS AND TRAVERSED BY A BROOK\\n',\n",
       " 28539)"
      ]
     },
     "execution_count": 28,
     "metadata": {},
     "output_type": "execute_result"
    }
   ],
   "source": [
    "lines = []\n",
    "\n",
    "for l in label_paths:\n",
    "    with open(l) as f:\n",
    "        for a in f.readlines():\n",
    "            lines.append(a.split(' ', maxsplit=1)[1])\n",
    "\n",
    "lines[0], len(lines)"
   ]
  },
  {
   "cell_type": "code",
   "execution_count": 29,
   "metadata": {},
   "outputs": [],
   "source": [
    "with open(\"..\\\\manifest\\\\ls-labels.txt\", 'w') as f:\n",
    "    [f.write(l) for l in lines]"
   ]
  },
  {
   "cell_type": "code",
   "execution_count": 30,
   "metadata": {},
   "outputs": [],
   "source": [
    "# Write as CSV\n",
    "with open('..\\\\manifest\\\\ls-train-clean-100.csv', 'w') as f:\n",
    "    for a, l in zip(audio_paths, lines):\n",
    "        # a = a[:-5] # Remove .flac\n",
    "        data = a + \",\" + l\n",
    "        f.write(data)"
   ]
  }
 ],
 "metadata": {
  "kernelspec": {
   "display_name": "Python 3.8.10 ('squeezeformer-venv': venv)",
   "language": "python",
   "name": "python3"
  },
  "language_info": {
   "codemirror_mode": {
    "name": "ipython",
    "version": 3
   },
   "file_extension": ".py",
   "mimetype": "text/x-python",
   "name": "python",
   "nbconvert_exporter": "python",
   "pygments_lexer": "ipython3",
   "version": "3.8.10"
  },
  "orig_nbformat": 4,
  "vscode": {
   "interpreter": {
    "hash": "2b00357f3b8c78489a849c85f4bee5823fdad31a63e332455352084cd9cde00d"
   }
  }
 },
 "nbformat": 4,
 "nbformat_minor": 2
}
